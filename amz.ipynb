{
 "cells": [
  {
   "cell_type": "code",
   "execution_count": 1,
   "id": "1ef4c8eb",
   "metadata": {},
   "outputs": [
    {
     "name": "stdout",
     "output_type": "stream",
     "text": [
      "{'rule_pqji': ['Amazon\\'s Choicefor \"phone\"', 'Redmi A1 (Black, 2GB RAM, 32GB Storage) | Segment Best AI Dual Cam | 5000mAh Battery | Leather Texture Design | Android 12', 'Redmi 9A Sport (Coral Green, 2GB RAM, 32GB Storage) | 2GHz Octa-core Helio G25 Processor | 5000 mAh Battery', 'Best sellerin Basic Mobiles', 'Nokia 105 Single SIM, Keypad Mobile Phone with Wireless FM Radio | Charcoal', 'OPPO A74 5G (Fluid Black, 6GB RAM, 128GB Storage) with No Cost EMI/Additional Exchange Offers', 'OPPO A31 (Mystery Black, 6GB RAM, 128GB Storage) with No Cost EMI/Additional Exchange Offers', 'Redmi 10A (Charcoal Black, 4GB RAM, 64GB Storage) | 2 Ghz Octa Core Helio G25 | 5000 mAh Battery | Finger Print Sensor | Upto 5GB RAM with RAM Booster', 'realme narzo 50i (Mint Green, 2GB RAM+32GB Storage) Octa Core Processor | 6.5\" inch Large Display', 'Redmi 10A (Slate Grey, 4GB RAM, 64GB Storage) | 2 Ghz Octa Core Helio G25 | 5000 mAh Battery | Finger Print Sensor | Upto 5GB RAM with RAM Booster', 'Redmi 9A Sport (Carbon Black, 2GB RAM, 32GB Storage) | 2GHz Octa-core Helio G25 Processor | 5000 mAh Battery', 'Redmi Note 11 (Horizon Blue, 6GB RAM, 128GB Storage)|90Hz FHD+ AMOLED Display | Qualcomm® SnapdragonTM 680-6nm | 33W Charger Included', 'Samsung Galaxy M32 Prime Edition (Light Blue, 4GB RAM, 64GB)', 'Nokia 105 Plus Single SIM, Keypad Mobile Phone with Wireless FM Radio, Memory Card Slot and MP3 Player | Red', 'Redmi 9A (Midnight Black 2GB RAM 32GB Storage) | 2GHz Octa-core Helio G25 Processor | 5000 mAh Battery', 'Nokia 105 Plus Single SIM, Keypad Mobile Phone with Wireless FM Radio, Memory Card Slot and MP3 Player | Charcoal', 'Redmi 10A Sport (Sea Blue, 6GB RAM, 128GB Storage) | 2 Ghz Octa Cor Helio G25 | 5000 mAh Battery | Finger Print Sensor | Upto 8GB RAM with RAM Booster', 'Redmi A1 (Light Blue, 2GB RAM, 32GB Storage) | Segment Best AI Dual Cam | 5000mAh Battery | Leather Texture Design | Android 12'], 'rule_exwf': ['Redmi A1 (Black, 2GB RAM, 32GB Storage) | Segment Best AI Dual Cam | 5000mAh Battery | Leather Texture Design | Android 12', 'Redmi 9A Sport (Coral Green, 2GB RAM, 32GB Storage) | 2GHz Octa-core Helio G25 Processor | 5000 mAh Battery', 'Nokia 105 Single SIM, Keypad Mobile Phone with Wireless FM Radio | Charcoal', 'OPPO A74 5G (Fluid Black, 6GB RAM, 128GB Storage) with No Cost EMI/Additional Exchange Offers', 'OPPO A31 (Mystery Black, 6GB RAM, 128GB Storage) with No Cost EMI/Additional Exchange Offers', 'Redmi 10A (Charcoal Black, 4GB RAM, 64GB Storage) | 2 Ghz Octa Core Helio G25 | 5000 mAh Battery | Finger Print Sensor | U...', 'realme narzo 50i (Mint Green, 2GB RAM+32GB Storage) Octa Core Processor | 6.5', 'Redmi 10A (Slate Grey, 4GB RAM, 64GB Storage) | 2 Ghz Octa Core Helio G25 | 5000 mAh Battery | Finger Print Sensor | Upto ...', 'Redmi 9A Sport (Carbon Black, 2GB RAM, 32GB Storage) | 2GHz Octa-core Helio G25 Processor | 5000 mAh Battery', 'Redmi Note 11 (Horizon Blue, 6GB RAM, 128GB Storage)|90Hz FHD+ AMOLED Display | Qualcomm® SnapdragonTM 680-6nm | 33W Charge...', 'Samsung Galaxy M32 Prime Edition (Light Blue, 4GB RAM, 64GB)', 'Nokia 105 Plus Single SIM, Keypad Mobile Phone with Wireless FM Radio, Memory Card Slot and MP3 Player | Red', 'Redmi 9A (Midnight Black 2GB RAM 32GB Storage) | 2GHz Octa-core Helio G25 Processor | 5000 mAh Battery', 'Nokia 105 Plus Single SIM, Keypad Mobile Phone with Wireless FM Radio, Memory Card Slot and MP3 Player | Charcoal', 'Redmi 10A Sport (Sea Blue, 6GB RAM, 128GB Storage) | 2 Ghz Octa Cor Helio G25 | 5000 mAh Battery | Finger Print Sensor | U...', 'Redmi A1 (Light Blue, 2GB RAM, 32GB Storage) | Segment Best AI Dual Cam | 5000mAh Battery | Leather Texture Design | Andro...'], 'rule_trnv': ['₹5,999', '₹8,999', '₹6,499', '₹8,499', '₹1,224', '₹1,599', '₹15,490', '₹20,990', '₹12,490', '₹15,990', '₹8,299', '₹11,999', '₹5,699', '₹7,999', '₹8,299', '₹11,999', '₹6,499', '₹7,999', '₹14,499', '₹19,999', '₹10,999', '₹13,499', '₹1,299', '₹1,699', '₹7,280', '₹7,999', '₹1,299', '₹1,699', '₹9,999', '₹13,999', '₹5,999', '₹8,999'], 'rule_5tn3': ['₹5,999', '₹8,999', '₹6,499', '₹8,499', '₹1,224', '₹1,599', '₹15,490', '₹20,990', '₹12,490', '₹15,990', '₹8,299', '₹11,999', '₹5,699', '₹7,999', '₹8,299', '₹11,999', '₹6,499', '₹7,999', '₹14,499', '₹19,999', '₹10,999', '₹13,499', '₹1,299', '₹1,699', '₹7,280', '₹7,999', '₹1,299', '₹1,699', '₹9,999', '₹13,999', '₹5,999', '₹8,999'], 'rule_akaw': ['₹5,999', '₹8,999', '₹6,499', '₹8,499', '₹1,224', '₹1,599', '₹15,490', '₹20,990', '₹12,490', '₹15,990', '₹8,299', '₹11,999', '₹5,699', '₹7,999', '₹8,299', '₹11,999', '₹6,499', '₹7,999', '₹14,499', '₹19,999', '₹10,999', '₹13,499', '₹1,299', '₹1,699', '₹7,280', '₹7,999', '₹1,299', '₹1,699', '₹9,999', '₹13,999', '₹5,999', '₹8,999'], 'rule_0w3q': ['₹5,999', '₹8,999', '₹6,499', '₹8,499', '₹1,224', '₹1,599', '₹15,490', '₹20,990', '₹12,490', '₹15,990', '₹8,299', '₹11,999', '₹5,699', '₹7,999', '₹8,299', '₹11,999', '₹6,499', '₹7,999', '₹14,499', '₹19,999', '₹10,999', '₹13,499', '₹1,299', '₹1,699', '₹7,280', '₹7,999', '₹1,299', '₹1,699', '₹9,999', '₹13,999', '₹5,999', '₹8,999']}\n"
     ]
    }
   ],
   "source": [
    "from autoscraper import AutoScraper\n",
    "\n",
    "## for Amazon ##\n",
    "amz_url = \"https://www.amazon.in/s?k=phone\"\n",
    "amz_wanted_list = [\n",
    "    \"Redmi A1 (Black, 2GB RAM, 32GB Storage) | Segment Best AI Dual Cam | 5000mAh Battery | Leather Texture Design | Android 12\", \"₹5,999\"]\n",
    "\n",
    "## Initializing Scraper ##\n",
    "scraper = AutoScraper()\n",
    "result = scraper.build(amz_url, amz_wanted_list)\n",
    "\n",
    "print(scraper.get_result_similar(amz_url, grouped=True))"
   ]
  },
  {
   "cell_type": "code",
   "execution_count": 2,
   "id": "7726a8f9",
   "metadata": {},
   "outputs": [],
   "source": [
    "scraper.set_rule_aliases({'rule_pqji': 'Title', 'rule_trnv': 'Price'})\n",
    "scraper.keep_rules(['rule_pqji', 'rule_trnv'])\n",
    "scraper.save('amz_search')"
   ]
  },
  {
   "cell_type": "code",
   "execution_count": null,
   "id": "e4804dbe",
   "metadata": {},
   "outputs": [],
   "source": []
  }
 ],
 "metadata": {
  "kernelspec": {
   "display_name": "Python 3 (ipykernel)",
   "language": "python",
   "name": "python3"
  },
  "language_info": {
   "codemirror_mode": {
    "name": "ipython",
    "version": 3
   },
   "file_extension": ".py",
   "mimetype": "text/x-python",
   "name": "python",
   "nbconvert_exporter": "python",
   "pygments_lexer": "ipython3",
   "version": "3.9.13"
  }
 },
 "nbformat": 4,
 "nbformat_minor": 5
}
